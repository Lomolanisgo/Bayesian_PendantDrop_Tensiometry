{
 "cells": [
  {
   "cell_type": "markdown",
   "metadata": {},
   "source": [
    "In this note book we will use BI to quantify the uncertainty of pendant drop tensiometry (PDT)\n",
    "First, we use generator: [genSingleDrop] to generate a standard drop and the add white noise on it to estimate the noise while edge detection and curve fitting."
   ]
  },
  {
   "cell_type": "code",
   "execution_count": 1,
   "metadata": {},
   "outputs": [],
   "source": [
    "import numpy as np\n",
    "import cv2 \n",
    "from matplotlib import pyplot as plt\n",
    "import os\n",
    "from fun_genSingleDrop import *\n",
    "\n",
    "r0,z0=genSingleDrop(73.04,15,rneedle=0.5,output=1)"
   ]
  },
  {
   "cell_type": "code",
   "execution_count": 2,
   "metadata": {},
   "outputs": [],
   "source": [
    "import random\n",
    "# fix the seed for the RANDOM\n",
    "RANDOM_SEED=5109\n",
    "np.random.seed(RANDOM_SEED)\n",
    "\n",
    "# add white noise on z and r\n",
    "\n",
    "wn_sigma=0.1\n",
    "r_w=r0+0\n",
    "z_w=z0+0\n",
    "\n",
    "for i in range (r_w.size):\n",
    "    r_w[i] += random.gauss(0,wn_sigma) # wn_mu=0, because it's white noise\n",
    "    z_w[i] += random.gauss(0,wn_sigma)"
   ]
  },
  {
   "cell_type": "code",
   "execution_count": 52,
   "metadata": {},
   "outputs": [],
   "source": [
    "# try to use the polyfit\n",
    "parameter_polyfited=np.polyfit(z_w,r_w,6)\n",
    "function_polyfited=np.poly1d(parameter_polyfited)\n",
    "r_predict=function_polyfited(z_w)\n",
    "\n",
    "plt.plot(z0,r0)\n",
    "plt.plot(z_w,r_w,'.')\n",
    "plt.axis('equal')\n",
    "plt.show()"
   ]
  },
  {
   "cell_type": "code",
   "execution_count": 3,
   "metadata": {},
   "outputs": [],
   "source": [
    "import numpy as np\n",
    "from scipy.optimize import minimize\n",
    "\n",
    "# Define a function to calculate the distance\n",
    "def calcu_distance_to_curve(x, known_points, point):\n",
    "    # x is a parameter indicating the position on the curve\n",
    "    # Calculate the points on the curve\n",
    "    curve_point = np.array([x, np.interp(x, known_points[:, 0], known_points[:, 1])]).reshape(2)\n",
    "    # Calculate the square of the distance as the optimisation objective\n",
    "    distance_squared = np.sum((curve_point - point) ** 2)\n",
    " \n",
    "    return distance_squared\n",
    "\n",
    "def calcu_minimize_distance_to_curve(x,fx,measurement_points):\n",
    "\n",
    "    bounds_left=np.min(x)\n",
    "\n",
    "    # Points on a known curve\n",
    "    known_points=np.vstack((x,fx))\n",
    "    known_points=np.transpose(known_points) \n",
    "\n",
    "    # The point at which the distance is to be calculated\n",
    "    point = measurement_points # (z,r)\n",
    "\n",
    "    # Finding the shortest distance using a gradient descent algorithm\n",
    "    result = minimize(calcu_distance_to_curve,x0=bounds_left/2, args=(known_points, point,), bounds=[(bounds_left, 0)],)\n",
    "\n",
    "    # Shortest distance\n",
    "    min_distance = np.sqrt(result.fun)\n",
    "\n",
    "    return min_distance,point"
   ]
  },
  {
   "cell_type": "markdown",
   "metadata": {},
   "source": [
    "Now, we assume we don't know the square error $\\sigma_{noise}$ of the white noise, and then we try to find which surface tension $\\gamma$ can minimise it.\n",
    "\n",
    "First, we try $\\gamma$=75 and $V$=15 to see the SE of it."
   ]
  },
  {
   "cell_type": "code",
   "execution_count": 38,
   "metadata": {},
   "outputs": [
    {
     "data": {
      "image/png": "[encoded data removed]",
      "text/plain": [
       "<Figure size 432x288 with 1 Axes>"
      ]
     },
     "metadata": {
      "needs_background": "light"
     },
     "output_type": "display_data"
    },
    {
     "data": {
      "image/png": "[encoded data removed]",
      "text/plain": [
       "<Figure size 432x288 with 1 Axes>"
      ]
     },
     "metadata": {
      "needs_background": "light"
     },
     "output_type": "display_data"
    }
   ],
   "source": [
    "gamma,volume=[75,15]\n",
    "r,z=genSingleDrop(gamma,volume,0.5,1)\n",
    "distances=[]\n",
    "# For every point in measurement point (with white noise), \n",
    "# we calculate the distance to curve, \n",
    "# and finally calculate the square error.\n",
    "for i in range(r_w.shape[0]):\n",
    "    #print(z_w[i],r_w[i])\n",
    "    point=np.array([z_w[i],r_w[i]])\n",
    "    min_distance,_=calcu_minimize_distance_to_curve(z,r,point)\n",
    "    #print(min_distance)\n",
    "    distances.append(min_distance)\n",
    "distances=np.asarray(distances)\n",
    "MSE=np.sqrt(np.mean(distances**2)).item() \n",
    "\n",
    "\n",
    "plt.plot(z_w,r_w,'.',color='r')\n",
    "plt.plot(z,r)\n",
    "plt.xlabel(\"$z$\",fontdict={'family': 'Times New Roman', 'size':20})\n",
    "plt.ylabel(\"$r$\",fontdict={'family': 'Times New Roman', 'size':20})\n",
    "plt.title('Synthetic drop\\'s profile and data points, where $\\gamma$=%i, $V$=%i' %(gamma,volume))\n",
    "plt.legend(['generated drop','Data with noise'])\n",
    "plt.xticks(fontsize=15)\n",
    "plt.yticks(fontsize=15)\n",
    "plt.axis('equal')\n",
    "plt.show()\n",
    "\n",
    "plt.plot(distances,'.')\n",
    "plt.show()\n"
   ]
  },
  {
   "cell_type": "code",
   "execution_count": 42,
   "metadata": {},
   "outputs": [
    {
     "data": {
      "image/png": "[encoded data removed]",
      "text/plain": [
       "<Figure size 432x288 with 1 Axes>"
      ]
     },
     "metadata": {
      "needs_background": "light"
     },
     "output_type": "display_data"
    }
   ],
   "source": [
    "plt.hist(distances, bins=10, rwidth=0.9, density=True,)\n",
    "plt.show()"
   ]
  },
  {
   "cell_type": "markdown",
   "metadata": {},
   "source": [
    "Then, we calculate SEs for different $\\gamma$ but the same volume, where $\\gamma \\in $[61,100] and $V$=15. "
   ]
  },
  {
   "cell_type": "code",
   "execution_count": 35,
   "metadata": {},
   "outputs": [],
   "source": [
    "def calcu_MSE(gamma,volume,z_w,r_w):\n",
    "    '''Given surface tension, volume and experimental data points (with noise), \n",
    "    then calculate the MSE of these points to the profile of the droplet\n",
    "    gamma   --> surface tension [float] ;\n",
    "    volume  --> volume          [float] ;\n",
    "    z_w     --> Data coordinates along the direction of gravity ;\n",
    "    r_w     --> Data coordinates along the direction of radius  ;\n",
    "    '''\n",
    "    r,z=genSingleDrop(gamma,volume,0.5,1)\n",
    "    distances=[]\n",
    "    # For every point in measurement point (with white noise), \n",
    "    # we calculate the distance to curve, and finally calculate the square error.\n",
    "    for i in range(r_w.shape[0]):\n",
    "        #print(z_w[i],r_w[i])\n",
    "        point=np.array([z_w[i],r_w[i]])\n",
    "        min_distance,_=calcu_minimize_distance_to_curve(z,r,point)\n",
    "        #print(min_distance)\n",
    "        distances.append(min_distance)\n",
    "    distances=np.asarray(distances)\n",
    "    MSE=np.sqrt(np.mean(distances**2))\n",
    "    MSE=MSE.astype(float)\n",
    "    return MSE,distances"
   ]
  },
  {
   "cell_type": "code",
   "execution_count": 36,
   "metadata": {},
   "outputs": [
    {
     "name": "stderr",
     "output_type": "stream",
     "text": [
      "100%|██████████| 40/40 [00:16<00:00,  2.44it/s]\n"
     ]
    }
   ],
   "source": [
    "from tqdm import tqdm\n",
    "SurfaceTensions=[]\n",
    "MSEs=[]\n",
    "volume=15\n",
    "for gamma in tqdm(np.arange(61,101,1)):\n",
    "    MSE,_=calcu_MSE(gamma,volume,z_w=z_w,r_w=r_w)\n",
    "    SurfaceTensions.append(gamma)\n",
    "    MSEs.append(MSE)"
   ]
  },
  {
   "cell_type": "code",
   "execution_count": 37,
   "metadata": {},
   "outputs": [
    {
     "data": {
      "image/png": "[encoded data removed]",
      "text/plain": [
       "<Figure size 432x288 with 1 Axes>"
      ]
     },
     "metadata": {
      "needs_background": "light"
     },
     "output_type": "display_data"
    }
   ],
   "source": [
    "plt.plot(SurfaceTensions,MSEs)\n",
    "plt.xlabel('Surface Tension $\\gamma$')\n",
    "plt.ylabel('MSE')\n",
    "plt.yscale('log')\n",
    "plt.title('$\\gamma$ vs SD, volume=%i' %volume)\n",
    "plt.show()"
   ]
  },
  {
   "cell_type": "code",
   "execution_count": null,
   "metadata": {},
   "outputs": [],
   "source": []
  }
 ],
 "metadata": {
  "kernelspec": {
   "display_name": "Python 3",
   "language": "python",
   "name": "python3"
  },
  "language_info": {
   "codemirror_mode": {
    "name": "ipython",
    "version": 3
   },
   "file_extension": ".py",
   "mimetype": "text/x-python",
   "name": "python",
   "nbconvert_exporter": "python",
   "pygments_lexer": "ipython3",
   "version": "3.9.10"
  },
  "orig_nbformat": 4
 },
 "nbformat": 4,
 "nbformat_minor": 2
}
